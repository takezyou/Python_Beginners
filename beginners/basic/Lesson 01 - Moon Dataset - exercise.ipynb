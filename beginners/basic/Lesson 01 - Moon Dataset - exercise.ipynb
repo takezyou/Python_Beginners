{
 "cells": [
  {
   "cell_type": "markdown",
   "metadata": {},
   "source": [
    "# Lesson 01: Scikit-learn入門"
   ]
  },
  {
   "cell_type": "markdown",
   "metadata": {},
   "source": [
    "- scikit-learn本家：http://scikit-learn.org/stable/\n",
    "- scikit-learn本家チュートリアル：http://scikit-learn.org/stable/tutorial/"
   ]
  },
  {
   "cell_type": "code",
   "execution_count": null,
   "metadata": {
    "collapsed": false
   },
   "outputs": [],
   "source": [
    "from IPython.display import IFrame\n",
    "IFrame('http://scikit-learn.org/stable', width=800, height=400)"
   ]
  },
  {
   "cell_type": "markdown",
   "metadata": {},
   "source": [
    "## ステップ１：データハンドリング"
   ]
  },
  {
   "cell_type": "code",
   "execution_count": null,
   "metadata": {
    "collapsed": true
   },
   "outputs": [],
   "source": [
    "# scikit-learnを読み込む\n",
    "FILL_IN"
   ]
  },
  {
   "cell_type": "code",
   "execution_count": null,
   "metadata": {
    "collapsed": false,
    "scrolled": true
   },
   "outputs": [],
   "source": [
    "# scikit-learnのバージョンを表示する\n",
    "FILL_IN"
   ]
  },
  {
   "cell_type": "code",
   "execution_count": null,
   "metadata": {
    "collapsed": false
   },
   "outputs": [],
   "source": [
    "# scikit-learnからデータセットを読み込む\n",
    "FILL_IN"
   ]
  },
  {
   "cell_type": "code",
   "execution_count": null,
   "metadata": {
    "collapsed": false
   },
   "outputs": [],
   "source": [
    "# datasets.make_moons()を使い、1000個の入出力サンプル（X, y）を生成。\n",
    "# noiseには0.2、乱数シードは0を使用。\n",
    "X, y = datasets.make_moons(noise=0.2, random_state=0, n_samples=1000)"
   ]
  },
  {
   "cell_type": "code",
   "execution_count": null,
   "metadata": {
    "collapsed": false,
    "scrolled": true
   },
   "outputs": [],
   "source": [
    "# X自体を見る\n",
    "FILL_IN"
   ]
  },
  {
   "cell_type": "code",
   "execution_count": null,
   "metadata": {
    "collapsed": false
   },
   "outputs": [],
   "source": [
    "# Xの形をみる\n",
    "FILL_IN"
   ]
  },
  {
   "cell_type": "code",
   "execution_count": null,
   "metadata": {
    "collapsed": false
   },
   "outputs": [],
   "source": [
    "# Xのデータ型をみる\n",
    "FILL_IN"
   ]
  },
  {
   "cell_type": "markdown",
   "metadata": {},
   "source": [
    "## ステップ２：初期分析と仮説構築"
   ]
  },
  {
   "cell_type": "code",
   "execution_count": null,
   "metadata": {
    "collapsed": false
   },
   "outputs": [],
   "source": [
    "# 可視化用ライブラリの読み込み\n",
    "FILL_IN"
   ]
  },
  {
   "cell_type": "code",
   "execution_count": null,
   "metadata": {
    "collapsed": false
   },
   "outputs": [],
   "source": [
    "# plt.plotを使い描画\n",
    "FILL_IN"
   ]
  },
  {
   "cell_type": "code",
   "execution_count": null,
   "metadata": {
    "collapsed": true
   },
   "outputs": [],
   "source": [
    "# あれ図がでないぞ\n",
    "FILL_IN"
   ]
  },
  {
   "cell_type": "code",
   "execution_count": null,
   "metadata": {
    "collapsed": false
   },
   "outputs": [],
   "source": [
    "#  plt.scatterを使い描画\n",
    "FILL_IN"
   ]
  },
  {
   "cell_type": "code",
   "execution_count": null,
   "metadata": {
    "collapsed": true
   },
   "outputs": [],
   "source": [
    "import matplotlib as mpl\n",
    "mpl.rc('font', **{'size': 14})"
   ]
  },
  {
   "cell_type": "code",
   "execution_count": null,
   "metadata": {
    "collapsed": false,
    "scrolled": false
   },
   "outputs": [],
   "source": [
    "# 色分けして描画\n",
    "FILL_IN"
   ]
  },
  {
   "cell_type": "code",
   "execution_count": null,
   "metadata": {
    "collapsed": false
   },
   "outputs": [],
   "source": [
    "# データの散らばり具合（標準偏差）を見てみる\n",
    "FILL_IN"
   ]
  },
  {
   "cell_type": "code",
   "execution_count": null,
   "metadata": {
    "collapsed": true
   },
   "outputs": [],
   "source": [
    "# skleranから前処理用モジュールを読み込む\n",
    "FILL_IN"
   ]
  },
  {
   "cell_type": "code",
   "execution_count": null,
   "metadata": {
    "collapsed": false
   },
   "outputs": [],
   "source": [
    "# データの正規化\n",
    "FILL_IN"
   ]
  },
  {
   "cell_type": "code",
   "execution_count": null,
   "metadata": {
    "collapsed": false,
    "scrolled": false
   },
   "outputs": [],
   "source": [
    "# データの散らばり具合（標準偏差）を再確認\n",
    "FILL_IN"
   ]
  },
  {
   "cell_type": "code",
   "execution_count": null,
   "metadata": {
    "collapsed": true
   },
   "outputs": [],
   "source": [
    "# ラベル付きデータをトレーニングセットとテストセットに分割するためのモジュールを読み込む\n",
    "FILL_IN"
   ]
  },
  {
   "cell_type": "code",
   "execution_count": null,
   "metadata": {
    "collapsed": false
   },
   "outputs": [],
   "source": [
    "# ラベル付きデータをトレーニングセット (X_train, y_train)とテストセット (X_test, y_test)に分割\n",
    "FILL_IN"
   ]
  },
  {
   "cell_type": "code",
   "execution_count": null,
   "metadata": {
    "collapsed": false,
    "scrolled": true
   },
   "outputs": [],
   "source": [
    "# X_trainの形\n",
    "FILL_IN"
   ]
  },
  {
   "cell_type": "code",
   "execution_count": null,
   "metadata": {
    "collapsed": false,
    "scrolled": false
   },
   "outputs": [],
   "source": [
    "# y_trainの形\n",
    "FILL_IN"
   ]
  },
  {
   "cell_type": "code",
   "execution_count": null,
   "metadata": {
    "collapsed": false
   },
   "outputs": [],
   "source": [
    "# X_testの形\n",
    "FILL_IN"
   ]
  },
  {
   "cell_type": "code",
   "execution_count": null,
   "metadata": {
    "collapsed": false
   },
   "outputs": [],
   "source": [
    "# y_testの形\n",
    "FILL_IN"
   ]
  },
  {
   "cell_type": "markdown",
   "metadata": {},
   "source": [
    "## ステップ３：機械学習\n",
    "\n",
    "- 問題設定にあったモデルを選ぶ\n",
    "\n",
    "- http://scikit-learn.org/stable/index.html\n",
    "- http://scikit-learn.org/stable/modules/classes.html"
   ]
  },
  {
   "cell_type": "code",
   "execution_count": null,
   "metadata": {
    "collapsed": false
   },
   "outputs": [],
   "source": [
    "# まずは簡単なモデルで試してみよう\n",
    "\n",
    "# === 線形モデル ===\n",
    "# モジュールの読み込み\n",
    "FILL_IN\n",
    "#  モデル構築\n",
    "FILL_IN\n",
    "\n",
    "# === サポートベクターマシン ===\n",
    "# モジュールの読み込み\n",
    "#FILL_IN\n",
    "#  モデル構築\n",
    "#FILL_IN\n",
    "\n",
    "# === ランダムフォレスト ===\n",
    "# モジュールの読み込み\n",
    "#FILL_IN\n",
    "#  モデル構築\n",
    "#FILL_IN\n",
    "\n",
    "# === 勾配ブースティング ===\n",
    "# モジュールの読み込み\n",
    "#FILL_IN\n",
    "#  モデル構築\n",
    "#FILL_IN"
   ]
  },
  {
   "cell_type": "code",
   "execution_count": null,
   "metadata": {
    "collapsed": false,
    "scrolled": true
   },
   "outputs": [],
   "source": [
    "# 学習\n",
    "FILL_IN"
   ]
  },
  {
   "cell_type": "code",
   "execution_count": null,
   "metadata": {
    "collapsed": false
   },
   "outputs": [],
   "source": [
    "# トレーニングセットに対する予測\n",
    "FILL_IN"
   ]
  },
  {
   "cell_type": "code",
   "execution_count": null,
   "metadata": {
    "collapsed": false
   },
   "outputs": [],
   "source": [
    "# テストセットに対する予測\n",
    "FILL_IN"
   ]
  },
  {
   "cell_type": "markdown",
   "metadata": {},
   "source": [
    "## ステップ４：結果の評価"
   ]
  },
  {
   "cell_type": "markdown",
   "metadata": {},
   "source": [
    "#### 結果の評価（方法１）：y_test_predを使って予測精度を出す"
   ]
  },
  {
   "cell_type": "code",
   "execution_count": null,
   "metadata": {
    "collapsed": false
   },
   "outputs": [],
   "source": [
    "# 評価基準モジュール（metrics）の読み込み\n",
    "FILL_IN"
   ]
  },
  {
   "cell_type": "code",
   "execution_count": null,
   "metadata": {
    "collapsed": true
   },
   "outputs": [],
   "source": [
    "# トレーニングデータに対する予測精度を計算\n",
    "FILL_IN"
   ]
  },
  {
   "cell_type": "code",
   "execution_count": null,
   "metadata": {
    "collapsed": true
   },
   "outputs": [],
   "source": [
    "# テストデータに対する予測精度を計算\n",
    "FILL_IN"
   ]
  },
  {
   "cell_type": "markdown",
   "metadata": {},
   "source": [
    "#### 結果の評価：（方法２）: model.score(X, y)を使って予測精度を出す"
   ]
  },
  {
   "cell_type": "code",
   "execution_count": null,
   "metadata": {
    "collapsed": false,
    "scrolled": true
   },
   "outputs": [],
   "source": [
    "# トレーニングデータに対する予測精度を計算\n",
    "FILL_IN"
   ]
  },
  {
   "cell_type": "code",
   "execution_count": null,
   "metadata": {
    "collapsed": false,
    "scrolled": true
   },
   "outputs": [],
   "source": [
    "# テストデータに対する予測精度を計算\n",
    "FILL_IN"
   ]
  },
  {
   "cell_type": "markdown",
   "metadata": {},
   "source": [
    "#### 結果を見やすいように整形"
   ]
  },
  {
   "cell_type": "code",
   "execution_count": null,
   "metadata": {
    "collapsed": false,
    "scrolled": true
   },
   "outputs": [],
   "source": [
    "print u\"トレーニングデータの予測精度： {0:.1f}%\".format(FILL_IN)\n",
    "print u\"テストデータの予測精度： {0:.1f}%\".format(FILL_IN)"
   ]
  },
  {
   "cell_type": "code",
   "execution_count": null,
   "metadata": {
    "collapsed": false,
    "scrolled": true
   },
   "outputs": [],
   "source": [
    "# 結果の可視化\n",
    "\n",
    "fig, ax = plt.subplots(2, 2, figsize=(10, 10));\n",
    "\n",
    "for ii in xrange(2):\n",
    "    for jj in xrange(2):\n",
    "        if ii == 0:\n",
    "            XX = X_train\n",
    "            yy = y_train_pred if jj == 0 else y_train\n",
    "            title = \"Train, Prediction\" if jj == 0 else \"Train, Truth\"\n",
    "        elif ii == 1:\n",
    "            XX = X_test\n",
    "            yy = y_test_pred if (jj == 0) else y_test\n",
    "            title = \"Test, Prediction\" if jj == 0 else \"Test, Truth\"\n",
    "            \n",
    "        ax[ii, jj].scatter(XX[yy==0, 0], XX[yy==0, 1], c='b', label='Class 0')\n",
    "        ax[ii, jj].scatter(XX[yy==1, 0], XX[yy==1, 1], c='r', label='Class 1')\n",
    "        ax[ii, jj].set(xlabel='X0', ylabel='X1', title=title);\n",
    "        ax[ii, jj].set_aspect('equal')\n",
    "        \n",
    "fig.subplots_adjust(wspace=0.2, hspace=0.3)"
   ]
  },
  {
   "cell_type": "code",
   "execution_count": null,
   "metadata": {
    "collapsed": false,
    "scrolled": true
   },
   "outputs": [],
   "source": [
    "# 入力空間全体にモデルの予測値を描画\n",
    "\n",
    "import numpy as np\n",
    "\n",
    "x_min = -3; x_max = 3\n",
    "y_min = -3; y_max = 3\n",
    "h = 0.2\n",
    "\n",
    "# 空間をメッシュ状に区切り、各点での予測を得る\n",
    "xs, ys = np.meshgrid(np.arange(x_min, x_max, h),\n",
    "                     np.arange(y_min, y_max, h))\n",
    "zs = model.predict_proba(np.c_[xs.ravel(), ys.ravel()])[:, 1]\n",
    "zs = zs.reshape(xs.shape)\n",
    "\n",
    "fig, ax = plt.subplots()\n",
    "# 入力空間全体におけるモデルの予測値\n",
    "ax.contourf(xs, ys, zs) \n",
    "# テストセットの各入力点における予測値\n",
    "ax.scatter(X_test[y_test_pred==0, 0], X_test[y_test_pred==0, 1], label='Class 0')\n",
    "ax.scatter(X_test[y_test_pred==1, 0], X_test[y_test_pred==1, 1], c='r', label='Class 1')\n",
    "ax.legend(bbox_to_anchor=(1.02, 0.5,), loc='center left', borderaxespad=0)\n",
    "ax.set_aspect('equal')\n",
    "\n",
    "ax.set(xlabel='X0', ylabel='X1', title=\"Moon dataset\");"
   ]
  },
  {
   "cell_type": "markdown",
   "metadata": {},
   "source": [
    "### モデル選択"
   ]
  },
  {
   "cell_type": "markdown",
   "metadata": {},
   "source": [
    "- [分類器の比較](http://scikit-learn.org/stable/auto_examples/classification/plot_classifier_comparison.html)"
   ]
  },
  {
   "cell_type": "code",
   "execution_count": null,
   "metadata": {
    "collapsed": true
   },
   "outputs": [],
   "source": [
    "# 分類モデルの読み込み\n",
    "\n",
    "# ロジスティック回帰\n",
    "FILL_IN\n",
    "# K最近傍法\n",
    "FILL_IN\n",
    "# サーポートベクターマシン\n",
    "FILL_IN\n",
    "# 決定木\n",
    "FILL_IN\n",
    "# ランダムフォレスト\n",
    "FILL_IN\n",
    "# 勾配ブースティング\n",
    "FILL_IN"
   ]
  },
  {
   "cell_type": "code",
   "execution_count": null,
   "metadata": {
    "collapsed": true
   },
   "outputs": [],
   "source": [
    "# 交差検証用モジュールの読み込み\n",
    "FILL_IN"
   ]
  },
  {
   "cell_type": "code",
   "execution_count": null,
   "metadata": {
    "collapsed": false,
    "scrolled": true
   },
   "outputs": [],
   "source": [
    "# KFoldを使って交差検証の舞台裏を理解\n",
    "FILL_IN"
   ]
  },
  {
   "cell_type": "code",
   "execution_count": null,
   "metadata": {
    "collapsed": true
   },
   "outputs": [],
   "source": [
    "# StratifiedKFoldを使って交差検証の舞台裏を理解\n",
    "FILL_IN"
   ]
  },
  {
   "cell_type": "code",
   "execution_count": null,
   "metadata": {
    "collapsed": false
   },
   "outputs": [],
   "source": [
    "# cross_val_scoreを使った交差検証\n",
    "\n",
    "# モデルの構築\n",
    "model = FILL_IN\n",
    "\n",
    "# cross_val_scoreを使った交差検証。cvに自分で作ったcvオブジェクト（kfold）を渡しても良い。\n",
    "result = cross_val_score(FILL_IN)\n",
    "\n",
    "# 結果の表示\n",
    "print(\"{0}\\n{1:.3f} ({2:.3f})\\n{3}\".format(result, result.mean(), result.std(), model.__str__()))"
   ]
  },
  {
   "cell_type": "code",
   "execution_count": null,
   "metadata": {
    "collapsed": false,
    "scrolled": true
   },
   "outputs": [],
   "source": [
    "#　複数の分類器を用意\n",
    "FILL_IN"
   ]
  },
  {
   "cell_type": "code",
   "execution_count": null,
   "metadata": {
    "collapsed": false,
    "scrolled": false
   },
   "outputs": [],
   "source": [
    "# それぞれのモデルに対して、交差検証（CV）をかける\n",
    "import time\n",
    "results = {}\n",
    "exec_times = {}\n",
    "\n",
    "for name, model in classifiers:\n",
    "    tic = time.time()\n",
    "    result = cross_val_score(model, X_train, y_train, cv=5, scoring='accuracy')\n",
    "    exec_time = time.time() - tic\n",
    "    exec_times[name] = exec_time\n",
    "    results[name] = result\n",
    "    \n",
    "    print(\"{0:.3f} ({1:.3f}): time {2:.2f}s, {3}\".format(result.mean(), result.std(), exec_time, name))"
   ]
  },
  {
   "cell_type": "code",
   "execution_count": null,
   "metadata": {
    "collapsed": false
   },
   "outputs": [],
   "source": [
    "# 結果の描画を楽にするためpandasを使う\n",
    "# まずはライブラリの読み込み\n",
    "FILL_IN"
   ]
  },
  {
   "cell_type": "code",
   "execution_count": null,
   "metadata": {
    "collapsed": false
   },
   "outputs": [],
   "source": [
    "# 結果をデータフレームに入れる\n",
    "FILL_IN"
   ]
  },
  {
   "cell_type": "code",
   "execution_count": null,
   "metadata": {
    "collapsed": false,
    "scrolled": true
   },
   "outputs": [],
   "source": [
    "# ボックスプロットによる結果の描画\n",
    "FILL_IN"
   ]
  },
  {
   "cell_type": "code",
   "execution_count": null,
   "metadata": {
    "collapsed": false,
    "scrolled": false
   },
   "outputs": [],
   "source": [
    "# 結果とモデルパラメータの詳細表示\n",
    "for name, model in classifiers:\n",
    "    result = results[name]\n",
    "    print(\"{0:.3f} ({1:.3f})\\n{2}\\n{3}\\n----------\".format(result.mean(), result.std(), result, model.__str__()))"
   ]
  },
  {
   "cell_type": "code",
   "execution_count": null,
   "metadata": {
    "collapsed": false,
    "scrolled": true
   },
   "outputs": [],
   "source": [
    "# 計算時間でソート\n",
    "sorted(exec_times.items(), key=lambda x: x[1])"
   ]
  },
  {
   "cell_type": "markdown",
   "metadata": {},
   "source": [
    "### ハイパーパラメーターサーチ"
   ]
  },
  {
   "cell_type": "markdown",
   "metadata": {},
   "source": [
    "#### １次元の場合"
   ]
  },
  {
   "cell_type": "code",
   "execution_count": null,
   "metadata": {
    "collapsed": true
   },
   "outputs": [],
   "source": [
    "# validation_curveモジュールを読み込む\n",
    "FILL_IN"
   ]
  },
  {
   "cell_type": "code",
   "execution_count": null,
   "metadata": {
    "collapsed": false
   },
   "outputs": [],
   "source": [
    "# ハイパーパラメータの取り得る範囲をparam_rangeで決める\n",
    "FILL_IN\n",
    "\n",
    "# validation_curve()を使いtrain_scoresとvalid_scoresを得る。\n",
    "# パラメータ名はparam_nameで指定\n",
    "FILL_IN"
   ]
  },
  {
   "cell_type": "code",
   "execution_count": null,
   "metadata": {
    "collapsed": false
   },
   "outputs": [],
   "source": [
    "def plot_validation_curve(train_scores, valid_scores, plot=plt.plot):\n",
    "\n",
    "    train_scores_mean = np.mean(train_scores, axis=1)\n",
    "    train_scores_std = np.std(train_scores, axis=1)\n",
    "    valid_scores_mean = np.mean(valid_scores, axis=1)\n",
    "    valid_scores_std = np.std(valid_scores, axis=1)\n",
    "\n",
    "    plt.title(\"Validation Curve\")\n",
    "    plt.xlabel(\"Hyperparameter\")\n",
    "    plt.ylabel(\"Score\")\n",
    "    #plt.ylim(0.0, 1.1)\n",
    "    plot(param_range, train_scores_mean, label=\"Training score\", color=\"r\")\n",
    "    plt.fill_between(param_range, train_scores_mean - train_scores_std,\n",
    "                     train_scores_mean + train_scores_std, alpha=0.2, color=\"r\")\n",
    "    plot(param_range, valid_scores_mean, label=\"Cross-validation score\",\n",
    "                 color=\"g\")\n",
    "    plt.fill_between(param_range, valid_scores_mean - valid_scores_std,\n",
    "                     valid_scores_mean + valid_scores_std, alpha=0.2, color=\"g\")\n",
    "    plt.legend(loc=\"best\")\n",
    "    plt.show()\n",
    "\n",
    "    print \"Best parameter is {}\".format(param_range[valid_scores_mean.argmax()])"
   ]
  },
  {
   "cell_type": "code",
   "execution_count": null,
   "metadata": {
    "collapsed": true
   },
   "outputs": [],
   "source": [
    "# validation curveを描画する\n",
    "FILL_IN"
   ]
  },
  {
   "cell_type": "code",
   "execution_count": null,
   "metadata": {
    "collapsed": false
   },
   "outputs": [],
   "source": [
    "# モデルの構築（ラインサーチで見つけたベストなパラメータを使う）\n",
    "best_model = FILL_IN\n",
    "\n",
    "# モデルの学習\n",
    "FILL_IN\n",
    "\n",
    "# トレーニングデータに対する予測精度\n",
    "print \"mean accuracy (train): {0:.3f}\".format(FILL_IN)\n",
    "\n",
    "# テストデータに対する予測精度\n",
    "# この値が実際に学習済みのシステムをデプロイした際に得られるであろう予測精度\n",
    "# この値を計算するときにだけテストデータを使う(超重要)\n",
    "print \"mean accuracy (test): {0:.3f}\".format(FILL_IN)"
   ]
  },
  {
   "cell_type": "markdown",
   "metadata": {},
   "source": [
    "#### ２次元の場合\n",
    "\n",
    "参考資料：[RBF SVM parameters (scikit-learn)](http://scikit-learn.org/stable/auto_examples/svm/plot_rbf_parameters.html)"
   ]
  },
  {
   "cell_type": "code",
   "execution_count": null,
   "metadata": {
    "collapsed": true
   },
   "outputs": [],
   "source": [
    "# GridSearchCVモジュールの読み込み\n",
    "FILL_IN"
   ]
  },
  {
   "cell_type": "code",
   "execution_count": null,
   "metadata": {
    "collapsed": false
   },
   "outputs": [],
   "source": [
    "# モデルの構築\n",
    "FILL_IN\n",
    "\n",
    "# 各ハイパーパラメータごとに調べるポイントを決める\n",
    "FILL_IN\n",
    "\n",
    "# 探索範囲をparam_gridにまとめる\n",
    "FILL_IN\n",
    "\n",
    "# GridSearchCVを使い、グリッドサーチオブジェクトを構築\n",
    "FILL_IN\n",
    "\n",
    "# グリッドサーチを実行\n",
    "FILL_IN\n",
    "\n",
    "# 最良のハイパーパラメータを表示\n",
    "FILL_IN"
   ]
  },
  {
   "cell_type": "code",
   "execution_count": null,
   "metadata": {
    "collapsed": false,
    "scrolled": false
   },
   "outputs": [],
   "source": [
    "# 各ハイパーパラメータの組み合わせに対する評価値をすべて列挙\n",
    "FILL_IN"
   ]
  },
  {
   "cell_type": "code",
   "execution_count": null,
   "metadata": {
    "collapsed": false
   },
   "outputs": [],
   "source": [
    "# 見やすくするためにデータフレームに入れる\n",
    "cv_scores = []\n",
    "for gsgs in gs.grid_scores_:\n",
    "    tmp = gsgs.parameters.values() + gsgs.cv_validation_scores.tolist()\n",
    "    cv_scores.append(tmp)\n",
    "    \n",
    "param_names = gsgs.parameters.keys()\n",
    "columns = param_names + np.arange(len(gsgs.cv_validation_scores)).tolist()\n",
    "\n",
    "df_gs = pd.DataFrame(cv_scores, columns=columns)\n",
    "df_gs.set_index(param_names, inplace=True)"
   ]
  },
  {
   "cell_type": "code",
   "execution_count": null,
   "metadata": {
    "collapsed": false
   },
   "outputs": [],
   "source": [
    "# boxplotで見てみる\n",
    "fig, ax = plt.subplots(figsize=(8, 8))\n",
    "df_gs.T.boxplot(vert=False);"
   ]
  },
  {
   "cell_type": "code",
   "execution_count": null,
   "metadata": {
    "collapsed": false,
    "scrolled": true
   },
   "outputs": [],
   "source": [
    "# ヒートマップで可視化\n",
    "import seaborn as sns\n",
    "fig, ax = plt.subplots(1, 2, figsize=(12, 4))\n",
    "sns.heatmap(df_gs.mean(axis=1).unstack(), ax=ax[0], cmap='RdBu_r')\n",
    "ax[0].set_title('Mean')\n",
    "sns.heatmap(df_gs.std(axis=1).unstack(), ax=ax[1], cmap=\"RdBu_r\")\n",
    "ax[1].set_title('Standard deviation')"
   ]
  },
  {
   "cell_type": "code",
   "execution_count": null,
   "metadata": {
    "collapsed": false
   },
   "outputs": [],
   "source": [
    "# モデルの構築（グリッドサーチで見つけたベストなパラメータを使用）\n",
    "best_model = FILL_IN\n",
    "\n",
    "# モデルの学習\n",
    "FILL_IN\n",
    "\n",
    "# トレーニングデータに対する予測精度\n",
    "print \"mean accuracy (train): {0:.3f}\".format(FILL_IN)\n",
    "\n",
    "# テストデータに対する予測精度\n",
    "print \"mean accuracy (test): {0:.3f}\".format(FILL_IN)"
   ]
  },
  {
   "cell_type": "markdown",
   "metadata": {},
   "source": [
    "#### 3次元以上の場合\n",
    "\n",
    "- 方法１：GridSearchCVを使う\n",
    "    - パラメータ空間の次元がそれほど高くないときは使えるが、すぐに次元の呪いでキツくなる...\n",
    "- 方法２: RandomizedSearchCVを使う\n",
    "    - 高次元になった場合はランダムサーチの方が効率的"
   ]
  },
  {
   "cell_type": "code",
   "execution_count": null,
   "metadata": {
    "collapsed": true
   },
   "outputs": [],
   "source": [
    "# ランダムサーチ用にRandomizedSearchCVモジュールを読み込む\n",
    "FILL_IN"
   ]
  },
  {
   "cell_type": "code",
   "execution_count": null,
   "metadata": {
    "collapsed": true
   },
   "outputs": [],
   "source": [
    "# 分布を指定するためにscipy.statsを読み込む\n",
    "FILL_IN"
   ]
  },
  {
   "cell_type": "code",
   "execution_count": null,
   "metadata": {
    "collapsed": false
   },
   "outputs": [],
   "source": [
    "# パラメータ空間上に分布を指定する（今回はランダムフォレストを仮定）\n",
    "param_dist = {FILL_IN}"
   ]
  },
  {
   "cell_type": "code",
   "execution_count": null,
   "metadata": {
    "collapsed": false,
    "scrolled": false
   },
   "outputs": [],
   "source": [
    "# ランダムサーチCVオブジェクトを作る\n",
    "random_search = FILL_IN"
   ]
  },
  {
   "cell_type": "code",
   "execution_count": null,
   "metadata": {
    "collapsed": true
   },
   "outputs": [],
   "source": [
    "# ランダムサーチを実行\n",
    "tic = time.time() # 時間計測開始\n",
    "random_search.FILL_IN\n",
    "toc = time.time() # 時間計測終了"
   ]
  },
  {
   "cell_type": "code",
   "execution_count": null,
   "metadata": {
    "collapsed": true
   },
   "outputs": [],
   "source": [
    "# 結果を表示\n",
    "from pprint import pprint\n",
    "print(\"Best score: {0}\\nExecution time: {1:.2f} sec\".format(random_search.best_score_, toc - tic))\n",
    "print(\"Best param:\")\n",
    "pprint(random_search.best_params_)"
   ]
  },
  {
   "cell_type": "code",
   "execution_count": null,
   "metadata": {
    "collapsed": true
   },
   "outputs": [],
   "source": [
    "# ベストなパラメータを別名で保存\n",
    "rf_best_params = random_search_rf.best_params_"
   ]
  },
  {
   "cell_type": "code",
   "execution_count": null,
   "metadata": {
    "collapsed": true
   },
   "outputs": [],
   "source": [
    "# モデルの構築（ランダムサーチで見つけたベストなパラメータを使用）\n",
    "best_model = FILL_IN"
   ]
  },
  {
   "cell_type": "code",
   "execution_count": null,
   "metadata": {
    "collapsed": true
   },
   "outputs": [],
   "source": [
    "# モデルの学習\n",
    "FILL_IN"
   ]
  },
  {
   "cell_type": "code",
   "execution_count": null,
   "metadata": {
    "collapsed": true
   },
   "outputs": [],
   "source": [
    "# トレーニングデータに対する予測精度\n",
    "print \"mean accuracy (train): {0:.3f}\".format(FILL_IN)"
   ]
  },
  {
   "cell_type": "code",
   "execution_count": null,
   "metadata": {
    "collapsed": false
   },
   "outputs": [],
   "source": [
    "# テストデータに対する予測精度\n",
    "print \"mean accuracy (test): {0:.3f}\".format(FILL_IN)"
   ]
  },
  {
   "cell_type": "markdown",
   "metadata": {},
   "source": [
    "## モデルアンサンブルによる予測"
   ]
  },
  {
   "cell_type": "code",
   "execution_count": null,
   "metadata": {
    "collapsed": false
   },
   "outputs": [],
   "source": [
    "# VotingClassifierの読み込み\n",
    "FILL_IN"
   ]
  },
  {
   "cell_type": "code",
   "execution_count": null,
   "metadata": {
    "collapsed": true
   },
   "outputs": [],
   "source": [
    "# 複数のモデルを用意。各モデルのハイパーパラメータはチューニング済みと仮定\n",
    "classifiers = [\n",
    "    ('knn', FILL_IN),\n",
    "    ('rbf svc', FILL_IN),\n",
    "    ('rf', FILL_IN)\n",
    "]"
   ]
  },
  {
   "cell_type": "code",
   "execution_count": null,
   "metadata": {
    "collapsed": true
   },
   "outputs": [],
   "source": [
    "# VotingClassifierの作成\n",
    "FILL_IN"
   ]
  },
  {
   "cell_type": "code",
   "execution_count": null,
   "metadata": {
    "collapsed": true
   },
   "outputs": [],
   "source": [
    "# トレーニング\n",
    "FILL_IN"
   ]
  },
  {
   "cell_type": "code",
   "execution_count": null,
   "metadata": {
    "collapsed": true
   },
   "outputs": [],
   "source": [
    "# トレーニングデータに対する予測精度\n",
    "print(\"mean accuracy (train): {0:.4f}\".format(FILL_IN))\n",
    "\n",
    "# テストデータに対する予測精度\n",
    "print(\"mean accuracy (test): {0:.4f}\".format(FILL_IN))"
   ]
  }
 ],
 "metadata": {
  "kernelspec": {
   "display_name": "Python 2",
   "language": "python",
   "name": "python2"
  },
  "language_info": {
   "codemirror_mode": {
    "name": "ipython",
    "version": 2
   },
   "file_extension": ".py",
   "mimetype": "text/x-python",
   "name": "python",
   "nbconvert_exporter": "python",
   "pygments_lexer": "ipython2",
   "version": "2.7.11"
  }
 },
 "nbformat": 4,
 "nbformat_minor": 0
}
