{
 "cells": [
  {
   "cell_type": "code",
   "execution_count": 1,
   "metadata": {
    "collapsed": false
   },
   "outputs": [
    {
     "data": {
      "text/plain": [
       "[2, 'hi', 2, 'hi', 2, 'hi']"
      ]
     },
     "execution_count": 1,
     "metadata": {},
     "output_type": "execute_result"
    }
   ],
   "source": [
    "[2,'hi'] *3"
   ]
  },
  {
   "cell_type": "code",
   "execution_count": 2,
   "metadata": {
    "collapsed": false
   },
   "outputs": [
    {
     "data": {
      "text/plain": [
       "[2, 3, 2, 3, 2, 3, 2, 3]"
      ]
     },
     "execution_count": 2,
     "metadata": {},
     "output_type": "execute_result"
    }
   ],
   "source": [
    "[2,3] * 4"
   ]
  },
  {
   "cell_type": "code",
   "execution_count": 3,
   "metadata": {
    "collapsed": false
   },
   "outputs": [],
   "source": [
    "x = 2 ** 10"
   ]
  },
  {
   "cell_type": "code",
   "execution_count": 4,
   "metadata": {
    "collapsed": false
   },
   "outputs": [
    {
     "data": {
      "text/plain": [
       "2048"
      ]
     },
     "execution_count": 4,
     "metadata": {},
     "output_type": "execute_result"
    }
   ],
   "source": [
    "x * 2"
   ]
  },
  {
   "cell_type": "markdown",
   "metadata": {},
   "source": [
    "# aaa\n",
    "\n",
    "- one\n",
    "- two\n",
    "- three\n",
    " - four\n",
    " \n",
    "---\n",
    "1. one\n",
    "1. two"
   ]
  },
  {
   "cell_type": "markdown",
   "metadata": {},
   "source": [
    "# Lesson 01: Scikit-learn入門"
   ]
  },
  {
   "cell_type": "markdown",
   "metadata": {},
   "source": [
    "- scikit-learn本家：http://scikit-learn.org/stable/\n",
    "- scikit-learn本家チュートリアル：http://scikit-learn.org/stable/tutorial/"
   ]
  },
  {
   "cell_type": "code",
   "execution_count": 5,
   "metadata": {
    "collapsed": false
   },
   "outputs": [
    {
     "data": {
      "text/html": [
       "\n",
       "        <iframe\n",
       "            width=\"800\"\n",
       "            height=\"400\"\n",
       "            src=\"http://scikit-learn.org/stable\"\n",
       "            frameborder=\"0\"\n",
       "            allowfullscreen\n",
       "        ></iframe>\n",
       "        "
      ],
      "text/plain": [
       "<IPython.lib.display.IFrame at 0x7f2d853dce10>"
      ]
     },
     "execution_count": 5,
     "metadata": {},
     "output_type": "execute_result"
    }
   ],
   "source": [
    "from IPython.display import IFrame\n",
    "IFrame('http://scikit-learn.org/stable', width=800, height=400)"
   ]
  },
  {
   "cell_type": "markdown",
   "metadata": {},
   "source": [
    "## ステップ１：データハンドリング"
   ]
  },
  {
   "cell_type": "code",
   "execution_count": 1,
   "metadata": {
    "collapsed": true
   },
   "outputs": [],
   "source": [
    "# scikit-learnを読み込む\n",
    "import sklearn"
   ]
  },
  {
   "cell_type": "code",
   "execution_count": 2,
   "metadata": {
    "collapsed": false,
    "scrolled": true
   },
   "outputs": [
    {
     "data": {
      "text/plain": [
       "'0.17.1'"
      ]
     },
     "execution_count": 2,
     "metadata": {},
     "output_type": "execute_result"
    }
   ],
   "source": [
    "# scikit-learnのバージョンを表示する\n",
    "sklearn.__version__"
   ]
  },
  {
   "cell_type": "code",
   "execution_count": 3,
   "metadata": {
    "collapsed": false
   },
   "outputs": [],
   "source": [
    "# scikit-learnからデータセットを読み込む\n",
    "from sklearn import datasets"
   ]
  },
  {
   "cell_type": "code",
   "execution_count": 4,
   "metadata": {
    "collapsed": false
   },
   "outputs": [],
   "source": [
    "# datasets.make_moons()を使い、1000個の入出力サンプル（X, y）を生成。\n",
    "# noiseには0.2、乱数シードは0を使用。\n",
    "X, y = datasets.make_moons(noise=0.2, random_state=0, n_samples=1000)"
   ]
  },
  {
   "cell_type": "code",
   "execution_count": 5,
   "metadata": {
    "collapsed": false
   },
   "outputs": [
    {
     "data": {
      "text/plain": [
       "array([[ 2.08614399,  0.57401401],\n",
       "       [ 1.80460944,  0.00695963],\n",
       "       [-0.22711217,  0.57390962],\n",
       "       ..., \n",
       "       [ 0.36440909, -0.63622697],\n",
       "       [ 0.18568733,  0.06229272],\n",
       "       [ 0.48561562, -0.53284399]])"
      ]
     },
     "execution_count": 5,
     "metadata": {},
     "output_type": "execute_result"
    }
   ],
   "source": [
    "# X自体を見る\n",
    "X"
   ]
  },
  {
   "cell_type": "code",
   "execution_count": 6,
   "metadata": {
    "collapsed": false
   },
   "outputs": [
    {
     "data": {
      "text/plain": [
       "(1000, 2)"
      ]
     },
     "execution_count": 6,
     "metadata": {},
     "output_type": "execute_result"
    }
   ],
   "source": [
    "# Xの形をみる\n",
    "X.shape"
   ]
  },
  {
   "cell_type": "code",
   "execution_count": 7,
   "metadata": {
    "collapsed": false
   },
   "outputs": [
    {
     "data": {
      "text/plain": [
       "numpy.ndarray"
      ]
     },
     "execution_count": 7,
     "metadata": {},
     "output_type": "execute_result"
    }
   ],
   "source": [
    "# Xのデータ型をみる\n",
    "type(X)"
   ]
  },
  {
   "cell_type": "code",
   "execution_count": 8,
   "metadata": {
    "collapsed": false
   },
   "outputs": [
    {
     "data": {
      "text/plain": [
       "(1000,)"
      ]
     },
     "execution_count": 8,
     "metadata": {},
     "output_type": "execute_result"
    }
   ],
   "source": [
    "X.max(axis=1).shape"
   ]
  },
  {
   "cell_type": "markdown",
   "metadata": {},
   "source": [
    "## ステップ２：初期分析と仮説構築"
   ]
  },
  {
   "cell_type": "code",
   "execution_count": 25,
   "metadata": {
    "collapsed": false
   },
   "outputs": [],
   "source": [
    "# 可視化用ライブラリの読み込み\n",
    "import matplotlib.pyplot as plt"
   ]
  },
  {
   "cell_type": "code",
   "execution_count": 26,
   "metadata": {
    "collapsed": false
   },
   "outputs": [
    {
     "data": {
      "text/plain": [
       "[<matplotlib.lines.Line2D at 0x7f7abd07ccd0>,\n",
       " <matplotlib.lines.Line2D at 0x7f7abd07ced0>]"
      ]
     },
     "execution_count": 26,
     "metadata": {},
     "output_type": "execute_result"
    },
    {
     "data": {
      "image/png": "[encoded data removed]",
      "text/plain": [
       "<matplotlib.figure.Figure at 0x7f7abd12cf90>"
      ]
     },
     "metadata": {},
     "output_type": "display_data"
    }
   ],
   "source": [
    "# plt.plotを使い描画\n",
    "%matplotlib inline\n",
    "plt.plot(X)"
   ]
  },
  {
   "cell_type": "code",
   "execution_count": 27,
   "metadata": {
    "collapsed": true
   },
   "outputs": [],
   "source": [
    "# あれ図がでないぞ\n",
    "%matplotlib inline"
   ]
  },
  {
   "cell_type": "code",
   "execution_count": 28,
   "metadata": {
    "collapsed": false
   },
   "outputs": [
    {
     "data": {
      "text/plain": [
       "<matplotlib.collections.PathCollection at 0x7f7abc177510>"
      ]
     },
     "execution_count": 28,
     "metadata": {},
     "output_type": "execute_result"
    },
    {
     "data": {
      "image/png": "[encoded data removed]",
      "text/plain": [
       "<matplotlib.figure.Figure at 0x7f7abc20a910>"
      ]
     },
     "metadata": {},
     "output_type": "display_data"
    }
   ],
   "source": [
    "#  plt.scatterを使い描画\n",
    "#　これは使えそう　Xの１列目とXの２列目\n",
    "plt.scatter(X[:,0],X[:,1])"
   ]
  },
  {
   "cell_type": "code",
   "execution_count": 29,
   "metadata": {
    "collapsed": true
   },
   "outputs": [],
   "source": [
    "import matplotlib as mpl\n",
    "#色付け　あとで調べよう\n",
    "mpl.rc('font', **{'size': 14})"
   ]
  },
  {
   "cell_type": "code",
   "execution_count": 30,
   "metadata": {
    "collapsed": false,
    "scrolled": false
   },
   "outputs": [
    {
     "data": {
      "image/png": "[encoded data removed]",
      "text/plain": [
       "<matplotlib.figure.Figure at 0x7f7abc13fdd0>"
      ]
     },
     "metadata": {},
     "output_type": "display_data"
    }
   ],
   "source": [
    "# 色分けして描画　パネルのサイズ変更\n",
    "fig,ax = plt.subplots(figsize=(6,6))\n",
    "ax.scatter(X[y==0,0],X[y==0,1],c='b',label='Class0')\n",
    "ax.scatter(X[y==1,0],X[y==1,1],c='r',label='Class1')\n",
    "ax.legend(loc='center left',\n",
    "          bbox_to_anchor= (1.02, 0.5,), \n",
    "          borderaxespad=0)\n",
    "ax.set(xlabel='X0',ylabel='X1',title='Moon dataset')\n",
    "ax.set_aspect('equal','datalim')"
   ]
  },
  {
   "cell_type": "code",
   "execution_count": 31,
   "metadata": {
    "collapsed": false
   },
   "outputs": [
    {
     "data": {
      "text/plain": [
       "array([ 1.,  1.])"
      ]
     },
     "execution_count": 31,
     "metadata": {},
     "output_type": "execute_result"
    }
   ],
   "source": [
    "# データの散らばり具合（標準偏差）を見てみる\n",
    "X.std(axis=0)"
   ]
  },
  {
   "cell_type": "code",
   "execution_count": 32,
   "metadata": {
    "collapsed": true
   },
   "outputs": [],
   "source": [
    "# skleranから前処理用モジュールを読み込む\n",
    "from sklearn import preprocessing"
   ]
  },
  {
   "cell_type": "code",
   "execution_count": 33,
   "metadata": {
    "collapsed": false
   },
   "outputs": [],
   "source": [
    "# データの正規化（縦横の縮尺を合わせる工程（この時縦横の平均は０にしてある））\n",
    "X = preprocessing.scale(X)"
   ]
  },
  {
   "cell_type": "code",
   "execution_count": 34,
   "metadata": {
    "collapsed": false,
    "scrolled": false
   },
   "outputs": [
    {
     "data": {
      "text/plain": [
       "array([ 1.,  1.])"
      ]
     },
     "execution_count": 34,
     "metadata": {},
     "output_type": "execute_result"
    }
   ],
   "source": [
    "# データの散らばり具合（標準偏差）を再確認\n",
    "X.std(axis=0)"
   ]
  },
  {
   "cell_type": "code",
   "execution_count": 35,
   "metadata": {
    "collapsed": false
   },
   "outputs": [],
   "source": [
    "# ラベル付きデータをトレーニングセットとテストセットに分割するためのモジュールを読み込む\n",
    "from sklearn import cross_validation"
   ]
  },
  {
   "cell_type": "code",
   "execution_count": 36,
   "metadata": {
    "collapsed": false
   },
   "outputs": [],
   "source": [
    "# ラベル付きデータをトレーニtングセット (X_train, y_train)とテストセット (X_test, y_test)に分割 シードは同じになるように\n",
    "X_train,X_test,y_train,y_test = cross_validation.train_test_split(X,y,test_size=0.2,random_state=42)"
   ]
  },
  {
   "cell_type": "code",
   "execution_count": 37,
   "metadata": {
    "collapsed": false,
    "scrolled": true
   },
   "outputs": [
    {
     "data": {
      "text/plain": [
       "(800, 2)"
      ]
     },
     "execution_count": 37,
     "metadata": {},
     "output_type": "execute_result"
    }
   ],
   "source": [
    "# X_trainの形\n",
    "X_train.shape"
   ]
  },
  {
   "cell_type": "code",
   "execution_count": 38,
   "metadata": {
    "collapsed": false,
    "scrolled": false
   },
   "outputs": [
    {
     "data": {
      "text/plain": [
       "(800,)"
      ]
     },
     "execution_count": 38,
     "metadata": {},
     "output_type": "execute_result"
    }
   ],
   "source": [
    "# y_trainの形 一次元で渡す\n",
    "y_train.shape"
   ]
  },
  {
   "cell_type": "code",
   "execution_count": 39,
   "metadata": {
    "collapsed": false
   },
   "outputs": [
    {
     "data": {
      "text/plain": [
       "(200, 2)"
      ]
     },
     "execution_count": 39,
     "metadata": {},
     "output_type": "execute_result"
    }
   ],
   "source": [
    "# X_testの形\n",
    "X_test.shape"
   ]
  },
  {
   "cell_type": "code",
   "execution_count": 40,
   "metadata": {
    "collapsed": false
   },
   "outputs": [
    {
     "data": {
      "text/plain": [
       "(200,)"
      ]
     },
     "execution_count": 40,
     "metadata": {},
     "output_type": "execute_result"
    }
   ],
   "source": [
    "# y_testの形\n",
    "y_test.shape"
   ]
  },
  {
   "cell_type": "markdown",
   "metadata": {},
   "source": [
    "## ステップ３：機械学習\n",
    "\n",
    "- 問題設定にあったモデルを選ぶ\n",
    "\n",
    "- http://scikit-learn.org/stable/index.html\n",
    "- http://scikit-learn.org/stable/modules/classes.html"
   ]
  },
  {
   "cell_type": "code",
   "execution_count": 41,
   "metadata": {
    "collapsed": false
   },
   "outputs": [],
   "source": [
    "# まずは簡単なモデルで試してみよう\n",
    "\n",
    "# === 線形モデル ===\n",
    "# モジュールの読み込み\n",
    "#from sklearn import linear_model\n",
    "#  モデル構築\n",
    "#model = linear_model.LogisticRegression()\n",
    "\n",
    "# === サポートベクターマシン ===\n",
    "# モジュールの読み込み\n",
    "#FILL_IN\n",
    "#  モデル構築\n",
    "#FILL_IN\n",
    "\n",
    "# === ランダムフォレスト ===\n",
    "#　二分木\n",
    "# モジュールの読み込み\n",
    "from sklearn import ensemble\n",
    "#  モデル構築\n",
    "model = ensemble.RandomForestClassifier(n_estimators=5,max_depth=3)\n",
    "\n",
    "# === 勾配ブースティング ===\n",
    "# モジュールの読み込み\n",
    "#FILL_IN\n",
    "#  モデル構築\n",
    "#FILL_IN"
   ]
  },
  {
   "cell_type": "code",
   "execution_count": 42,
   "metadata": {
    "collapsed": false,
    "scrolled": true
   },
   "outputs": [
    {
     "data": {
      "text/plain": [
       "RandomForestClassifier(bootstrap=True, class_weight=None, criterion='gini',\n",
       "            max_depth=3, max_features='auto', max_leaf_nodes=None,\n",
       "            min_samples_leaf=1, min_samples_split=2,\n",
       "            min_weight_fraction_leaf=0.0, n_estimators=5, n_jobs=1,\n",
       "            oob_score=False, random_state=None, verbose=0,\n",
       "            warm_start=False)"
      ]
     },
     "execution_count": 42,
     "metadata": {},
     "output_type": "execute_result"
    }
   ],
   "source": [
    "# 学習　予測のものさしを自動で\n",
    "model.fit(X_train,y_train)"
   ]
  },
  {
   "cell_type": "code",
   "execution_count": 190,
   "metadata": {
    "collapsed": false
   },
   "outputs": [],
   "source": [
    "# トレーニングセットに対する予測\n",
    "y_train_pred = model.predict(X_train)"
   ]
  },
  {
   "cell_type": "code",
   "execution_count": 191,
   "metadata": {
    "collapsed": false
   },
   "outputs": [
    {
     "data": {
      "text/plain": [
       "(800,)"
      ]
     },
     "execution_count": 191,
     "metadata": {},
     "output_type": "execute_result"
    }
   ],
   "source": [
    "y_train_pred.shape"
   ]
  },
  {
   "cell_type": "code",
   "execution_count": 192,
   "metadata": {
    "collapsed": false
   },
   "outputs": [],
   "source": [
    "# テストセットに対する予測\n",
    "y_test_pred = model.predict(X_test)"
   ]
  },
  {
   "cell_type": "markdown",
   "metadata": {},
   "source": [
    "## ステップ４：結果の評価"
   ]
  },
  {
   "cell_type": "markdown",
   "metadata": {},
   "source": [
    "#### 結果の評価（方法１）：y_test_predを使って予測精度を出す"
   ]
  },
  {
   "cell_type": "code",
   "execution_count": 193,
   "metadata": {
    "collapsed": false
   },
   "outputs": [],
   "source": [
    "# 評価基準モジュール（metrics）の読み込み\n",
    "from sklearn import metrics"
   ]
  },
  {
   "cell_type": "code",
   "execution_count": 194,
   "metadata": {
    "collapsed": false
   },
   "outputs": [
    {
     "name": "stdout",
     "output_type": "stream",
     "text": [
      "0.93375\n"
     ]
    }
   ],
   "source": [
    "# トレーニングデータに対する予測精度を計算\n",
    "print(metrics.accuracy_score(y_train,y_train_pred))"
   ]
  },
  {
   "cell_type": "code",
   "execution_count": 195,
   "metadata": {
    "collapsed": false
   },
   "outputs": [
    {
     "name": "stdout",
     "output_type": "stream",
     "text": [
      "0.875\n"
     ]
    }
   ],
   "source": [
    "# テストデータに対する予測精度を計算\n",
    "print(metrics.accuracy_score(y_test,y_test_pred))"
   ]
  },
  {
   "cell_type": "markdown",
   "metadata": {},
   "source": [
    "#### 結果の評価：（方法２）: model.score(X, y)を使って予測精度を出す"
   ]
  },
  {
   "cell_type": "code",
   "execution_count": 196,
   "metadata": {
    "collapsed": false,
    "scrolled": true
   },
   "outputs": [],
   "source": [
    "# トレーニングデータに対する予測精度を計算\n",
    "train_score = model.score(X_train,y_train)"
   ]
  },
  {
   "cell_type": "code",
   "execution_count": 197,
   "metadata": {
    "collapsed": false,
    "scrolled": true
   },
   "outputs": [],
   "source": [
    "# テストデータに対する予測精度を計算\n",
    "test_socre = model.score(X_test,y_test)"
   ]
  },
  {
   "cell_type": "markdown",
   "metadata": {},
   "source": [
    "#### 結果を見やすいように整形"
   ]
  },
  {
   "cell_type": "code",
   "execution_count": 198,
   "metadata": {
    "collapsed": false,
    "scrolled": true
   },
   "outputs": [
    {
     "name": "stdout",
     "output_type": "stream",
     "text": [
      "トレーニングデータの予測精度： 0.93%\n",
      "テストデータの予測精度： 0.88%\n"
     ]
    }
   ],
   "source": [
    "print u\"トレーニングデータの予測精度： {0:.2f}%\".format(train_score)\n",
    "print u\"テストデータの予測精度： {0:.2f}%\".format(test_socre)"
   ]
  },
  {
   "cell_type": "code",
   "execution_count": 199,
   "metadata": {
    "collapsed": false,
    "scrolled": false
   },
   "outputs": [
    {
     "data": {
      "image/png": "[encoded data removed]",
      "text/plain": [
       "<matplotlib.figure.Figure at 0x7f2d596d8f90>"
      ]
     },
     "metadata": {},
     "output_type": "display_data"
    }
   ],
   "source": [
    "# 結果の可視化\n",
    "\n",
    "fig, ax = plt.subplots(2, 2, figsize=(10, 10));\n",
    "\n",
    "for ii in xrange(2):\n",
    "    for jj in xrange(2):\n",
    "        if ii == 0:\n",
    "            XX = X_train\n",
    "            yy = y_train_pred if jj == 0 else y_train\n",
    "            title = \"Train, Prediction\" if jj == 0 else \"Train, Truth\"\n",
    "        elif ii == 1:\n",
    "            XX = X_test\n",
    "            yy = y_test_pred if (jj == 0) else y_test\n",
    "            title = \"Test, Prediction\" if jj == 0 else \"Test, Truth\"\n",
    "            \n",
    "        ax[ii, jj].scatter(XX[yy==0, 0], XX[yy==0, 1], c='b', label='Class 0')\n",
    "        ax[ii, jj].scatter(XX[yy==1, 0], XX[yy==1, 1], c='r', label='Class 1')\n",
    "        ax[ii, jj].set(xlabel='X0', ylabel='X1', title=title);\n",
    "        ax[ii, jj].set_aspect('equal')\n",
    "        \n",
    "fig.subplots_adjust(wspace=0.2, hspace=0.3)"
   ]
  },
  {
   "cell_type": "code",
   "execution_count": 200,
   "metadata": {
    "collapsed": false,
    "scrolled": true
   },
   "outputs": [
    {
     "data": {
      "image/png": "[encoded data removed]",
      "text/plain": [
       "<matplotlib.figure.Figure at 0x7f2d56a4a0d0>"
      ]
     },
     "metadata": {},
     "output_type": "display_data"
    }
   ],
   "source": [
    "# 入力空間全体にモデルの予測値を描画\n",
    "\n",
    "import numpy as np\n",
    "\n",
    "x_min = -3; x_max = 3\n",
    "y_min = -3; y_max = 3\n",
    "h = 0.2\n",
    "\n",
    "# 空間をメッシュ状に区切り、各点での予測を得る\n",
    "xs, ys = np.meshgrid(np.arange(x_min, x_max, h),\n",
    "                     np.arange(y_min, y_max, h))\n",
    "zs = model.predict_proba(np.c_[xs.ravel(), ys.ravel()])[:, 1]\n",
    "zs = zs.reshape(xs.shape)\n",
    "\n",
    "fig, ax = plt.subplots()\n",
    "# 入力空間全体におけるモデルの予測値\n",
    "ax.contourf(xs, ys, zs) \n",
    "# テストセットの各入力点における予測値\n",
    "ax.scatter(X_test[y_test_pred==0, 0], X_test[y_test_pred==0, 1], label='Class 0')\n",
    "ax.scatter(X_test[y_test_pred==1, 0], X_test[y_test_pred==1, 1], c='r', label='Class 1')\n",
    "ax.legend(bbox_to_anchor=(1.02, 0.5,), loc='center left', borderaxespad=0)\n",
    "ax.set_aspect('equal')\n",
    "\n",
    "ax.set(xlabel='X0', ylabel='X1', title=\"Moon dataset\");"
   ]
  },
  {
   "cell_type": "markdown",
   "metadata": {},
   "source": [
    "### モデル選択"
   ]
  },
  {
   "cell_type": "markdown",
   "metadata": {},
   "source": [
    "- [分類器の比較](http://scikit-learn.org/stable/auto_examples/classification/plot_classifier_comparison.html)"
   ]
  },
  {
   "cell_type": "code",
   "execution_count": 201,
   "metadata": {
    "collapsed": true
   },
   "outputs": [],
   "source": [
    "# 分類モデルの読み込み\n",
    "\n",
    "# ロジスティック回帰\n",
    "from sklearn.linear_model import LogisticRegression\n",
    "# K最近傍法\n",
    "from sklearn.neighbors import KNeighborsClassifier\n",
    "# サーポートベクターマシン\n",
    "from sklearn.svm import SVC\n",
    "# 決定木\n",
    "from sklearn.tree import DecisionTreeClassifier\n",
    "# ランダムフォレスト\n",
    "from sklearn.ensemble import RandomForestClassifier\n",
    "# 勾配ブースティング\n",
    "from sklearn.ensemble import GradientBoostingClassifier"
   ]
  },
  {
   "cell_type": "code",
   "execution_count": 202,
   "metadata": {
    "collapsed": true
   },
   "outputs": [],
   "source": [
    "# 交差検証用モジュールの読み込み\n",
    "from sklearn.cross_validation import cross_val_score"
   ]
  },
  {
   "cell_type": "code",
   "execution_count": null,
   "metadata": {
    "collapsed": false,
    "scrolled": true
   },
   "outputs": [],
   "source": [
    "# KFoldを使って交差検証の舞台裏を理解\n"
   ]
  },
  {
   "cell_type": "code",
   "execution_count": null,
   "metadata": {
    "collapsed": true
   },
   "outputs": [],
   "source": [
    "# StratifiedKFoldを使って交差検証の舞台裏を理解\n",
    "FILL_IN"
   ]
  },
  {
   "cell_type": "code",
   "execution_count": 204,
   "metadata": {
    "collapsed": false
   },
   "outputs": [
    {
     "name": "stdout",
     "output_type": "stream",
     "text": [
      "[ 0.8447205   0.875       0.91875     0.86875     0.90566038]\n",
      "0.883 (0.027)\n",
      "LogisticRegression(C=1.0, class_weight=None, dual=False, fit_intercept=True,\n",
      "          intercept_scaling=1, max_iter=100, multi_class='ovr', n_jobs=1,\n",
      "          penalty='l2', random_state=None, solver='liblinear', tol=0.0001,\n",
      "          verbose=0, warm_start=False)\n"
     ]
    }
   ],
   "source": [
    "# cross_val_scoreを使った交差検証\n",
    "\n",
    "# モデルの構築\n",
    "model = LogisticRegression()\n",
    "\n",
    "# cross_val_scoreを使った交差検証。cvに自分で作ったcvオブジェクト（kfold）を渡しても良い。\n",
    "result = cross_val_score(model, X_train, y_train, cv=5, scoring='accuracy')\n",
    "\n",
    "# 結果の表示\n",
    "print(\"{0}\\n{1:.3f} ({2:.3f})\\n{3}\".format(result, result.mean(), result.std(), model.__str__()))"
   ]
  },
  {
   "cell_type": "code",
   "execution_count": 205,
   "metadata": {
    "collapsed": false,
    "scrolled": true
   },
   "outputs": [],
   "source": [
    "#　複数の分類器を用意\n",
    "classifiers = [\n",
    "    ('lr', LogisticRegression()), \n",
    "    ('knn', KNeighborsClassifier()),\n",
    "    ('linear svc', SVC(kernel=\"linear\")),\n",
    "    ('rbf svc', SVC(gamma=2)),\n",
    "    ('dt', DecisionTreeClassifier()),\n",
    "    ('rf', RandomForestClassifier(random_state=42)),\n",
    "    ('gbc', GradientBoostingClassifier()),\n",
    "    #('ab', AdaBoostClassifier()),    \n",
    "    #('gnb', GaussianNB()),\n",
    "    #('lda', LinearDiscriminantAnalysis()),\n",
    "    #('qda', QuadraticDiscriminantAnalysis())\n",
    "]"
   ]
  },
  {
   "cell_type": "code",
   "execution_count": 206,
   "metadata": {
    "collapsed": false,
    "scrolled": false
   },
   "outputs": [
    {
     "name": "stdout",
     "output_type": "stream",
     "text": [
      "0.883 (0.027): time 0.02s, lr\n",
      "0.965 (0.020): time 0.01s, knn\n",
      "0.879 (0.024): time 0.05s, linear svc\n",
      "0.965 (0.020): time 0.06s, rbf svc\n",
      "0.950 (0.024): time 0.02s, dt\n",
      "0.958 (0.023): time 0.30s, rf\n",
      "0.960 (0.021): time 0.30s, gbc\n"
     ]
    }
   ],
   "source": [
    "# それぞれのモデルに対して、交差検証（CV）をかける\n",
    "import time\n",
    "results = {}\n",
    "exec_times = {}\n",
    "\n",
    "for name, model in classifiers:\n",
    "    tic = time.time()\n",
    "    result = cross_val_score(model, X_train, y_train, cv=5, scoring='accuracy')\n",
    "    exec_time = time.time() - tic\n",
    "    exec_times[name] = exec_time\n",
    "    results[name] = result\n",
    "    \n",
    "    print(\"{0:.3f} ({1:.3f}): time {2:.2f}s, {3}\".format(result.mean(), result.std(), exec_time, name))"
   ]
  },
  {
   "cell_type": "code",
   "execution_count": 207,
   "metadata": {
    "collapsed": false
   },
   "outputs": [],
   "source": [
    "# 結果の描画を楽にするためpandasを使う\n",
    "# まずはライブラリの読み込み\n",
    "import pandas as pd"
   ]
  },
  {
   "cell_type": "code",
   "execution_count": 209,
   "metadata": {
    "collapsed": false
   },
   "outputs": [],
   "source": [
    "# 結果をデータフレームに入れる\n",
    "df = pd.DataFrame(results)"
   ]
  },
  {
   "cell_type": "code",
   "execution_count": 211,
   "metadata": {
    "collapsed": false
   },
   "outputs": [
    {
     "data": {
      "text/html": [
       "<div>\n",
       "<table border=\"1\" class=\"dataframe\">\n",
       "  <thead>\n",
       "    <tr style=\"text-align: right;\">\n",
       "      <th></th>\n",
       "      <th>dt</th>\n",
       "      <th>gbc</th>\n",
       "      <th>knn</th>\n",
       "      <th>linear svc</th>\n",
       "      <th>lr</th>\n",
       "      <th>rbf svc</th>\n",
       "      <th>rf</th>\n",
       "    </tr>\n",
       "  </thead>\n",
       "  <tbody>\n",
       "    <tr>\n",
       "      <th>0</th>\n",
       "      <td>0.925466</td>\n",
       "      <td>0.950311</td>\n",
       "      <td>0.944099</td>\n",
       "      <td>0.850932</td>\n",
       "      <td>0.84472</td>\n",
       "      <td>0.956522</td>\n",
       "      <td>0.950311</td>\n",
       "    </tr>\n",
       "    <tr>\n",
       "      <th>1</th>\n",
       "      <td>0.975000</td>\n",
       "      <td>0.968750</td>\n",
       "      <td>0.975000</td>\n",
       "      <td>0.862500</td>\n",
       "      <td>0.87500</td>\n",
       "      <td>0.968750</td>\n",
       "      <td>0.956250</td>\n",
       "    </tr>\n",
       "    <tr>\n",
       "      <th>2</th>\n",
       "      <td>0.975000</td>\n",
       "      <td>0.968750</td>\n",
       "      <td>0.981250</td>\n",
       "      <td>0.918750</td>\n",
       "      <td>0.91875</td>\n",
       "      <td>0.981250</td>\n",
       "      <td>0.981250</td>\n",
       "    </tr>\n",
       "    <tr>\n",
       "      <th>3</th>\n",
       "      <td>0.918750</td>\n",
       "      <td>0.925000</td>\n",
       "      <td>0.937500</td>\n",
       "      <td>0.868750</td>\n",
       "      <td>0.86875</td>\n",
       "      <td>0.931250</td>\n",
       "      <td>0.918750</td>\n",
       "    </tr>\n",
       "    <tr>\n",
       "      <th>4</th>\n",
       "      <td>0.955975</td>\n",
       "      <td>0.987421</td>\n",
       "      <td>0.987421</td>\n",
       "      <td>0.893082</td>\n",
       "      <td>0.90566</td>\n",
       "      <td>0.987421</td>\n",
       "      <td>0.981132</td>\n",
       "    </tr>\n",
       "  </tbody>\n",
       "</table>\n",
       "</div>"
      ],
      "text/plain": [
       "         dt       gbc       knn  linear svc       lr   rbf svc        rf\n",
       "0  0.925466  0.950311  0.944099    0.850932  0.84472  0.956522  0.950311\n",
       "1  0.975000  0.968750  0.975000    0.862500  0.87500  0.968750  0.956250\n",
       "2  0.975000  0.968750  0.981250    0.918750  0.91875  0.981250  0.981250\n",
       "3  0.918750  0.925000  0.937500    0.868750  0.86875  0.931250  0.918750\n",
       "4  0.955975  0.987421  0.987421    0.893082  0.90566  0.987421  0.981132"
      ]
     },
     "execution_count": 211,
     "metadata": {},
     "output_type": "execute_result"
    }
   ],
   "source": [
    "df"
   ]
  },
  {
   "cell_type": "code",
   "execution_count": 219,
   "metadata": {
    "collapsed": false,
    "scrolled": true
   },
   "outputs": [
    {
     "data": {
      "image/png": "[encoded data removed]",
      "text/plain": [
       "<matplotlib.figure.Figure at 0x7f2d4c184950>"
      ]
     },
     "metadata": {},
     "output_type": "display_data"
    }
   ],
   "source": [
    "# ボックスプロットによる結果の描画\n",
    "import warnings\n",
    "warnings.simplefilter(\"ignore\")\n",
    "\n",
    "df[df.median().sort_values(ascending=True).index].boxplot(vert=False);"
   ]
  },
  {
   "cell_type": "code",
   "execution_count": 216,
   "metadata": {
    "collapsed": false,
    "scrolled": false
   },
   "outputs": [
    {
     "name": "stdout",
     "output_type": "stream",
     "text": [
      "0.883 (0.027)\n",
      "[ 0.8447205   0.875       0.91875     0.86875     0.90566038]\n",
      "LogisticRegression(C=1.0, class_weight=None, dual=False, fit_intercept=True,\n",
      "          intercept_scaling=1, max_iter=100, multi_class='ovr', n_jobs=1,\n",
      "          penalty='l2', random_state=None, solver='liblinear', tol=0.0001,\n",
      "          verbose=0, warm_start=False)\n",
      "----------\n",
      "0.965 (0.020)\n",
      "[ 0.94409938  0.975       0.98125     0.9375      0.98742138]\n",
      "KNeighborsClassifier(algorithm='auto', leaf_size=30, metric='minkowski',\n",
      "           metric_params=None, n_jobs=1, n_neighbors=5, p=2,\n",
      "           weights='uniform')\n",
      "----------\n",
      "0.879 (0.024)\n",
      "[ 0.85093168  0.8625      0.91875     0.86875     0.89308176]\n",
      "SVC(C=1.0, cache_size=200, class_weight=None, coef0=0.0,\n",
      "  decision_function_shape=None, degree=3, gamma='auto', kernel='linear',\n",
      "  max_iter=-1, probability=False, random_state=None, shrinking=True,\n",
      "  tol=0.001, verbose=False)\n",
      "----------\n",
      "0.965 (0.020)\n",
      "[ 0.95652174  0.96875     0.98125     0.93125     0.98742138]\n",
      "SVC(C=1.0, cache_size=200, class_weight=None, coef0=0.0,\n",
      "  decision_function_shape=None, degree=3, gamma=2, kernel='rbf',\n",
      "  max_iter=-1, probability=False, random_state=None, shrinking=True,\n",
      "  tol=0.001, verbose=False)\n",
      "----------\n",
      "0.950 (0.024)\n",
      "[ 0.92546584  0.975       0.975       0.91875     0.95597484]\n",
      "DecisionTreeClassifier(class_weight=None, criterion='gini', max_depth=None,\n",
      "            max_features=None, max_leaf_nodes=None, min_samples_leaf=1,\n",
      "            min_samples_split=2, min_weight_fraction_leaf=0.0,\n",
      "            presort=False, random_state=None, splitter='best')\n",
      "----------\n",
      "0.958 (0.023)\n",
      "[ 0.95031056  0.95625     0.98125     0.91875     0.98113208]\n",
      "RandomForestClassifier(bootstrap=True, class_weight=None, criterion='gini',\n",
      "            max_depth=None, max_features='auto', max_leaf_nodes=None,\n",
      "            min_samples_leaf=1, min_samples_split=2,\n",
      "            min_weight_fraction_leaf=0.0, n_estimators=10, n_jobs=1,\n",
      "            oob_score=False, random_state=42, verbose=0, warm_start=False)\n",
      "----------\n",
      "0.960 (0.021)\n",
      "[ 0.95031056  0.96875     0.96875     0.925       0.98742138]\n",
      "GradientBoostingClassifier(init=None, learning_rate=0.1, loss='deviance',\n",
      "              max_depth=3, max_features=None, max_leaf_nodes=None,\n",
      "              min_samples_leaf=1, min_samples_split=2,\n",
      "              min_weight_fraction_leaf=0.0, n_estimators=100,\n",
      "              presort='auto', random_state=None, subsample=1.0, verbose=0,\n",
      "              warm_start=False)\n",
      "----------\n"
     ]
    }
   ],
   "source": [
    "# 結果とモデルパラメータの詳細表示\n",
    "for name, model in classifiers:\n",
    "    result = results[name]\n",
    "    print(\"{0:.3f} ({1:.3f})\\n{2}\\n{3}\\n----------\".format(result.mean(), result.std(), result, model.__str__()))"
   ]
  },
  {
   "cell_type": "code",
   "execution_count": 217,
   "metadata": {
    "collapsed": false,
    "scrolled": true
   },
   "outputs": [
    {
     "data": {
      "text/plain": [
       "[('knn', 0.012380123138427734),\n",
       " ('dt', 0.015208959579467773),\n",
       " ('lr', 0.018516063690185547),\n",
       " ('linear svc', 0.054116010665893555),\n",
       " ('rbf svc', 0.055757999420166016),\n",
       " ('gbc', 0.2977170944213867),\n",
       " ('rf', 0.3016490936279297)]"
      ]
     },
     "execution_count": 217,
     "metadata": {},
     "output_type": "execute_result"
    }
   ],
   "source": [
    "# 計算時間でソート\n",
    "sorted(exec_times.items(), key=lambda x: x[1])"
   ]
  },
  {
   "cell_type": "markdown",
   "metadata": {},
   "source": [
    "### ハイパーパラメーターサーチ"
   ]
  },
  {
   "cell_type": "markdown",
   "metadata": {},
   "source": [
    "#### １次元の場合"
   ]
  },
  {
   "cell_type": "code",
   "execution_count": 220,
   "metadata": {
    "collapsed": true
   },
   "outputs": [],
   "source": [
    "# validation_curveモジュールを読み込む\n",
    "from sklearn.learning_curve import validation_curve\n",
    "impor numpy as np"
   ]
  },
  {
   "cell_type": "code",
   "execution_count": 225,
   "metadata": {
    "collapsed": false
   },
   "outputs": [],
   "source": [
    "# ハイパーパラメータの取り得る範囲をparam_rangeで決める\n",
    "param_range = np.arange(1,20)\n",
    "\n",
    "# validation_curve()を使いtrain_scoresとvalid_scoresを得る。\n",
    "# パラメータ名はparam_nameで指定\n",
    "train_scores, valid_scores = validation_curve(KNeighborsClassifier(),\n",
    "                             X_train,y_train,param_name='n_neighbors',\n",
    "                             param_range=param_range)"
   ]
  },
  {
   "cell_type": "code",
   "execution_count": 226,
   "metadata": {
    "collapsed": false
   },
   "outputs": [],
   "source": [
    "def plot_validation_curve(train_scores, valid_scores, plot=plt.plot):\n",
    "\n",
    "    train_scores_mean = np.mean(train_scores, axis=1)\n",
    "    train_scores_std = np.std(train_scores, axis=1)\n",
    "    valid_scores_mean = np.mean(valid_scores, axis=1)\n",
    "    valid_scores_std = np.std(valid_scores, axis=1)\n",
    "\n",
    "    plt.title(\"Validation Curve\")\n",
    "    plt.xlabel(\"Hyperparameter\")\n",
    "    plt.ylabel(\"Score\")\n",
    "    #plt.ylim(0.0, 1.1)\n",
    "    plot(param_range, train_scores_mean, label=\"Training score\", color=\"r\")\n",
    "    plt.fill_between(param_range, train_scores_mean - train_scores_std,\n",
    "                     train_scores_mean + train_scores_std, alpha=0.2, color=\"r\")\n",
    "    plot(param_range, valid_scores_mean, label=\"Cross-validation score\",\n",
    "                 color=\"g\")\n",
    "    plt.fill_between(param_range, valid_scores_mean - valid_scores_std,\n",
    "                     valid_scores_mean + valid_scores_std, alpha=0.2, color=\"g\")\n",
    "    plt.legend(loc=\"best\")\n",
    "    plt.show()\n",
    "\n",
    "    print \"Best parameter is {}\".format(param_range[valid_scores_mean.argmax()])"
   ]
  },
  {
   "cell_type": "code",
   "execution_count": 227,
   "metadata": {
    "collapsed": false
   },
   "outputs": [
    {
     "data": {
      "image/png": "[encoded data removed]",
      "text/plain": [
       "<matplotlib.figure.Figure at 0x7f2d47d919d0>"
      ]
     },
     "metadata": {},
     "output_type": "display_data"
    },
    {
     "name": "stdout",
     "output_type": "stream",
     "text": [
      "Best parameter is 7\n"
     ]
    }
   ],
   "source": [
    "# validation curveを描画する\n",
    "plot_validation_curve(train_scores, valid_scores)"
   ]
  },
  {
   "cell_type": "code",
   "execution_count": 229,
   "metadata": {
    "collapsed": false
   },
   "outputs": [
    {
     "data": {
      "text/plain": [
       "16000000"
      ]
     },
     "execution_count": 229,
     "metadata": {},
     "output_type": "execute_result"
    }
   ],
   "source": [
    "(20 ** 5) * 5"
   ]
  },
  {
   "cell_type": "code",
   "execution_count": 231,
   "metadata": {
    "collapsed": false
   },
   "outputs": [
    {
     "name": "stdout",
     "output_type": "stream",
     "text": [
      "mean accuracy (train): 0.973\n",
      "mean accuracy (test): 0.955\n"
     ]
    }
   ],
   "source": [
    "# モデルの構築（ラインサーチで見つけたベストなパラメータを使う）\n",
    "best_model = KNeighborsClassifier(n_neighbors=7)\n",
    "\n",
    "# モデルの学習\n",
    "best_model.fit(X_train,y_train)\n",
    "\n",
    "# トレーニングデータに対する予測精度\n",
    "print \"mean accuracy (train): {0:.3f}\".format(best_model.score(X_train,y_train))\n",
    "\n",
    "# テストデータに対する予測精度\n",
    "# この値が実際に学習済みのシステムをデプロイした際に得られるであろう予測精度\n",
    "# この値を計算するときにだけテストデータを使う(超重要)\n",
    "print \"mean accuracy (test): {0:.3f}\".format(best_model.score(X_test, y_test))"
   ]
  },
  {
   "cell_type": "markdown",
   "metadata": {},
   "source": [
    "#### ２次元の場合\n",
    "\n",
    "参考資料：[RBF SVM parameters (scikit-learn)](http://scikit-learn.org/stable/auto_examples/svm/plot_rbf_parameters.html)"
   ]
  },
  {
   "cell_type": "code",
   "execution_count": 232,
   "metadata": {
    "collapsed": true
   },
   "outputs": [],
   "source": [
    "# GridSearchCVモジュールの読み込み\n",
    "from sklearn.grid_search import GridSearchCV"
   ]
  },
  {
   "cell_type": "code",
   "execution_count": 233,
   "metadata": {
    "collapsed": false
   },
   "outputs": [
    {
     "name": "stdout",
     "output_type": "stream",
     "text": [
      "The best parameters are {'C': 0.10000000000000001, 'gamma': 10.0} with a score of 0.97\n"
     ]
    }
   ],
   "source": [
    "# モデルの構築\n",
    "model = SVC(kernel='rbf')\n",
    "\n",
    "# 各ハイパーパラメータごとに調べるポイントを決める\n",
    "C_range = np.logspace(-2, 3, 6)\n",
    "gamma_range = np.logspace(-3, 2, 6)\n",
    "\n",
    "# 探索範囲をparam_gridにまとめる\n",
    "param_grid = dict(gamma=gamma_range, C=C_range)\n",
    "\n",
    "# GridSearchCVを使い、グリッドサーチオブジェクトを構築\n",
    "gs = GridSearchCV(model, param_grid=param_grid, cv=5, n_jobs=-1)\n",
    "\n",
    "# グリッドサーチを実行\n",
    "gs.fit(X_train, y_train)\n",
    "\n",
    "# 最良のハイパーパラメータを表示\n",
    "print(\"The best parameters are %s with a score of %0.2f\"\n",
    "      % (gs.best_params_, gs.best_score_))"
   ]
  },
  {
   "cell_type": "code",
   "execution_count": 234,
   "metadata": {
    "collapsed": false,
    "scrolled": false
   },
   "outputs": [
    {
     "data": {
      "text/plain": [
       "[mean: 0.50750, std: 0.00153, params: {'C': 0.01, 'gamma': 0.001},\n",
       " mean: 0.50750, std: 0.00153, params: {'C': 0.01, 'gamma': 0.01},\n",
       " mean: 0.88000, std: 0.02387, params: {'C': 0.01, 'gamma': 0.10000000000000001},\n",
       " mean: 0.91250, std: 0.02285, params: {'C': 0.01, 'gamma': 1.0},\n",
       " mean: 0.50750, std: 0.00153, params: {'C': 0.01, 'gamma': 10.0},\n",
       " mean: 0.50750, std: 0.00153, params: {'C': 0.01, 'gamma': 100.0},\n",
       " mean: 0.50750, std: 0.00153, params: {'C': 0.10000000000000001, 'gamma': 0.001},\n",
       " mean: 0.87875, std: 0.02610, params: {'C': 0.10000000000000001, 'gamma': 0.01},\n",
       " mean: 0.88000, std: 0.02001, params: {'C': 0.10000000000000001, 'gamma': 0.10000000000000001},\n",
       " mean: 0.96000, std: 0.01282, params: {'C': 0.10000000000000001, 'gamma': 1.0},\n",
       " mean: 0.96625, std: 0.01958, params: {'C': 0.10000000000000001, 'gamma': 10.0},\n",
       " mean: 0.51750, std: 0.00424, params: {'C': 0.10000000000000001, 'gamma': 100.0},\n",
       " mean: 0.87875, std: 0.02610, params: {'C': 1.0, 'gamma': 0.001},\n",
       " mean: 0.88000, std: 0.02001, params: {'C': 1.0, 'gamma': 0.01},\n",
       " mean: 0.89375, std: 0.02561, params: {'C': 1.0, 'gamma': 0.10000000000000001},\n",
       " mean: 0.96625, std: 0.02034, params: {'C': 1.0, 'gamma': 1.0},\n",
       " mean: 0.96625, std: 0.02034, params: {'C': 1.0, 'gamma': 10.0},\n",
       " mean: 0.94000, std: 0.02074, params: {'C': 1.0, 'gamma': 100.0},\n",
       " mean: 0.87750, std: 0.02225, params: {'C': 10.0, 'gamma': 0.001},\n",
       " mean: 0.87750, std: 0.02482, params: {'C': 10.0, 'gamma': 0.01},\n",
       " mean: 0.93875, std: 0.01266, params: {'C': 10.0, 'gamma': 0.10000000000000001},\n",
       " mean: 0.96125, std: 0.02174, params: {'C': 10.0, 'gamma': 1.0},\n",
       " mean: 0.95500, std: 0.01546, params: {'C': 10.0, 'gamma': 10.0},\n",
       " mean: 0.93000, std: 0.02834, params: {'C': 10.0, 'gamma': 100.0},\n",
       " mean: 0.87625, std: 0.02382, params: {'C': 100.0, 'gamma': 0.001},\n",
       " mean: 0.88000, std: 0.02719, params: {'C': 100.0, 'gamma': 0.01},\n",
       " mean: 0.96250, std: 0.01526, params: {'C': 100.0, 'gamma': 0.10000000000000001},\n",
       " mean: 0.96500, std: 0.01830, params: {'C': 100.0, 'gamma': 1.0},\n",
       " mean: 0.94500, std: 0.01834, params: {'C': 100.0, 'gamma': 10.0},\n",
       " mean: 0.92875, std: 0.02782, params: {'C': 100.0, 'gamma': 100.0},\n",
       " mean: 0.87750, std: 0.02521, params: {'C': 1000.0, 'gamma': 0.001},\n",
       " mean: 0.89250, std: 0.02390, params: {'C': 1000.0, 'gamma': 0.01},\n",
       " mean: 0.96500, std: 0.01956, params: {'C': 1000.0, 'gamma': 0.10000000000000001},\n",
       " mean: 0.96125, std: 0.01266, params: {'C': 1000.0, 'gamma': 1.0},\n",
       " mean: 0.93625, std: 0.01327, params: {'C': 1000.0, 'gamma': 10.0},\n",
       " mean: 0.92875, std: 0.02782, params: {'C': 1000.0, 'gamma': 100.0}]"
      ]
     },
     "execution_count": 234,
     "metadata": {},
     "output_type": "execute_result"
    }
   ],
   "source": [
    "# 各ハイパーパラメータの組み合わせに対する評価値をすべて列挙\n",
    "gs.grid_scores_"
   ]
  },
  {
   "cell_type": "code",
   "execution_count": 235,
   "metadata": {
    "collapsed": false
   },
   "outputs": [],
   "source": [
    "# 見やすくするためにデータフレームに入れる\n",
    "cv_scores = []\n",
    "for gsgs in gs.grid_scores_:\n",
    "    tmp = gsgs.parameters.values() + gsgs.cv_validation_scores.tolist()\n",
    "    cv_scores.append(tmp)\n",
    "    \n",
    "param_names = gsgs.parameters.keys()\n",
    "columns = param_names + np.arange(len(gsgs.cv_validation_scores)).tolist()\n",
    "\n",
    "df_gs = pd.DataFrame(cv_scores, columns=columns)\n",
    "df_gs.set_index(param_names, inplace=True)"
   ]
  },
  {
   "cell_type": "code",
   "execution_count": 236,
   "metadata": {
    "collapsed": false
   },
   "outputs": [
    {
     "data": {
      "image/png": "[encoded data removed]",
      "text/plain": [
       "<matplotlib.figure.Figure at 0x7f2d47ce92d0>"
      ]
     },
     "metadata": {},
     "output_type": "display_data"
    }
   ],
   "source": [
    "# boxplotで見てみる\n",
    "fig, ax = plt.subplots(figsize=(8, 8))\n",
    "df_gs.T.boxplot(vert=False);"
   ]
  },
  {
   "cell_type": "code",
   "execution_count": 237,
   "metadata": {
    "collapsed": false,
    "scrolled": true
   },
   "outputs": [
    {
     "data": {
      "text/plain": [
       "<matplotlib.text.Text at 0x7f2d471398d0>"
      ]
     },
     "execution_count": 237,
     "metadata": {},
     "output_type": "execute_result"
    },
    {
     "data": {
      "image/png": "[encoded data removed]",
      "text/plain": [
       "<matplotlib.figure.Figure at 0x7f2d47e07950>"
      ]
     },
     "metadata": {},
     "output_type": "display_data"
    }
   ],
   "source": [
    "# ヒートマップで可視化\n",
    "import seaborn as sns\n",
    "fig, ax = plt.subplots(1, 2, figsize=(12, 4))\n",
    "sns.heatmap(df_gs.mean(axis=1).unstack(), ax=ax[0], cmap='RdBu_r')\n",
    "ax[0].set_title('Mean')\n",
    "sns.heatmap(df_gs.std(axis=1).unstack(), ax=ax[1], cmap=\"RdBu_r\")\n",
    "ax[1].set_title('Standard deviation')"
   ]
  },
  {
   "cell_type": "code",
   "execution_count": null,
   "metadata": {
    "collapsed": false
   },
   "outputs": [],
   "source": [
    "# モデルの構築（グリッドサーチで見つけたベストなパラメータを使用）\n",
    "best_model = FILL_IN\n",
    "\n",
    "# モデルの学習\n",
    "FILL_IN\n",
    "\n",
    "# トレーニングデータに対する予測精度\n",
    "print \"mean accuracy (train): {0:.3f}\".format(FILL_IN)\n",
    "\n",
    "# テストデータに対する予測精度\n",
    "print \"mean accuracy (test): {0:.3f}\".format(FILL_IN)"
   ]
  },
  {
   "cell_type": "markdown",
   "metadata": {},
   "source": [
    "#### 3次元以上の場合\n",
    "\n",
    "- 方法１：GridSearchCVを使う\n",
    "    - パラメータ空間の次元がそれほど高くないときは使えるが、すぐに次元の呪いでキツくなる...\n",
    "- 方法２: RandomizedSearchCVを使う\n",
    "    - 高次元になった場合はランダムサーチの方が効率的"
   ]
  },
  {
   "cell_type": "code",
   "execution_count": null,
   "metadata": {
    "collapsed": true
   },
   "outputs": [],
   "source": [
    "# ランダムサーチ用にRandomizedSearchCVモジュールを読み込む\n",
    "FILL_IN"
   ]
  },
  {
   "cell_type": "code",
   "execution_count": null,
   "metadata": {
    "collapsed": true
   },
   "outputs": [],
   "source": [
    "# 分布を指定するためにscipy.statsを読み込む\n",
    "FILL_IN"
   ]
  },
  {
   "cell_type": "code",
   "execution_count": null,
   "metadata": {
    "collapsed": false
   },
   "outputs": [],
   "source": [
    "# パラメータ空間上に分布を指定する（今回はランダムフォレストを仮定）\n",
    "param_dist = {FILL_IN}"
   ]
  },
  {
   "cell_type": "code",
   "execution_count": null,
   "metadata": {
    "collapsed": false,
    "scrolled": false
   },
   "outputs": [],
   "source": [
    "# ランダムサーチCVオブジェクトを作る\n",
    "random_search = FILL_IN"
   ]
  },
  {
   "cell_type": "code",
   "execution_count": null,
   "metadata": {
    "collapsed": true
   },
   "outputs": [],
   "source": [
    "# ランダムサーチを実行\n",
    "tic = time.time() # 時間計測開始\n",
    "random_search.FILL_IN\n",
    "toc = time.time() # 時間計測終了"
   ]
  },
  {
   "cell_type": "code",
   "execution_count": null,
   "metadata": {
    "collapsed": true
   },
   "outputs": [],
   "source": [
    "# 結果を表示\n",
    "from pprint import pprint\n",
    "print(\"Best score: {0}\\nExecution time: {1:.2f} sec\".format(random_search.best_score_, toc - tic))\n",
    "print(\"Best param:\")\n",
    "pprint(random_search.best_params_)"
   ]
  },
  {
   "cell_type": "code",
   "execution_count": null,
   "metadata": {
    "collapsed": true
   },
   "outputs": [],
   "source": [
    "# ベストなパラメータを別名で保存\n",
    "rf_best_params = random_search_rf.best_params_"
   ]
  },
  {
   "cell_type": "code",
   "execution_count": null,
   "metadata": {
    "collapsed": true
   },
   "outputs": [],
   "source": [
    "# モデルの構築（ランダムサーチで見つけたベストなパラメータを使用）\n",
    "best_model = FILL_IN"
   ]
  },
  {
   "cell_type": "code",
   "execution_count": null,
   "metadata": {
    "collapsed": true
   },
   "outputs": [],
   "source": [
    "# モデルの学習\n",
    "FILL_IN"
   ]
  },
  {
   "cell_type": "code",
   "execution_count": null,
   "metadata": {
    "collapsed": true
   },
   "outputs": [],
   "source": [
    "# トレーニングデータに対する予測精度\n",
    "print \"mean accuracy (train): {0:.3f}\".format(FILL_IN)"
   ]
  },
  {
   "cell_type": "code",
   "execution_count": null,
   "metadata": {
    "collapsed": false
   },
   "outputs": [],
   "source": [
    "# テストデータに対する予測精度\n",
    "print \"mean accuracy (test): {0:.3f}\".format(FILL_IN)"
   ]
  },
  {
   "cell_type": "markdown",
   "metadata": {},
   "source": [
    "## モデルアンサンブルによる予測"
   ]
  },
  {
   "cell_type": "code",
   "execution_count": null,
   "metadata": {
    "collapsed": false
   },
   "outputs": [],
   "source": [
    "# VotingClassifierの読み込み\n",
    "FILL_IN"
   ]
  },
  {
   "cell_type": "code",
   "execution_count": null,
   "metadata": {
    "collapsed": true
   },
   "outputs": [],
   "source": [
    "# 複数のモデルを用意。各モデルのハイパーパラメータはチューニング済みと仮定\n",
    "classifiers = [\n",
    "    ('knn', FILL_IN),\n",
    "    ('rbf svc', FILL_IN),\n",
    "    ('rf', FILL_IN)\n",
    "]"
   ]
  },
  {
   "cell_type": "code",
   "execution_count": null,
   "metadata": {
    "collapsed": true
   },
   "outputs": [],
   "source": [
    "# VotingClassifierの作成\n",
    "FILL_IN"
   ]
  },
  {
   "cell_type": "code",
   "execution_count": null,
   "metadata": {
    "collapsed": true
   },
   "outputs": [],
   "source": [
    "# トレーニング\n",
    "FILL_IN"
   ]
  },
  {
   "cell_type": "code",
   "execution_count": null,
   "metadata": {
    "collapsed": true
   },
   "outputs": [],
   "source": [
    "# トレーニングデータに対する予測精度\n",
    "print(\"mean accuracy (train): {0:.4f}\".format(FILL_IN))\n",
    "\n",
    "# テストデータに対する予測精度\n",
    "print(\"mean accuracy (test): {0:.4f}\".format(FILL_IN))"
   ]
  }
 ],
 "metadata": {
  "anaconda-cloud": {},
  "kernelspec": {
   "display_name": "Python [default]",
   "language": "python",
   "name": "python3"
  },
  "language_info": {
   "codemirror_mode": {
    "name": "ipython",
    "version": 3
   },
   "file_extension": ".py",
   "mimetype": "text/x-python",
   "name": "python",
   "nbconvert_exporter": "python",
   "pygments_lexer": "ipython3",
   "version": "3.5.2"
  }
 },
 "nbformat": 4,
 "nbformat_minor": 0
}
